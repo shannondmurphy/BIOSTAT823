{
 "cells": [
  {
   "cell_type": "markdown",
   "metadata": {},
   "source": [
    "# \"Is there life after graduate school?\"\n",
    "> \"An introduction to Dash with applications to doctoral degree recipients' job outlook.\"\n",
    "\n",
    "- toc: false\n",
    "- branch: master\n",
    "- badges: true\n",
    "- comments: true\n",
    "- categories: [fastpages, jupyter]\n",
    "- image: images/some_folder/your_image.png\n",
    "- hide: false\n",
    "- search_exclude: true\n",
    "- metadata_key1: metadata_value1\n",
    "- metadata_key2: metadata_value2\n",
    "- use_plotly: true"
   ]
  },
  {
   "cell_type": "markdown",
   "metadata": {},
   "source": [
    "Dash (https://dash.plotly.com/introduction) is a Python package that allows for easy app creation.  It works with plotly, the package that was used in my last blog post, to allow for simple coding of interactive visualizations.  For this dashboard, data from the NSF on doctorate recipients in the United States was used (https://ncses.nsf.gov/pubs/nsf19301/data).  "
   ]
  },
  {
   "cell_type": "markdown",
   "metadata": {},
   "source": [
    "To get started, I downloaded Anaconda.  This allows me to run a local version of Python to get the app running.  Within Anaconda, I opened up Jupyter notebooks to code this dashboard.  After doing some standard data cleaning using the pandas package, I began to write the code for the web page.  My webpage contains four images in a two-by-two grid with drop down menus for two and radio items for the other two to allow for customization of the graphs and easier interpretation. "
   ]
  },
  {
   "cell_type": "markdown",
   "metadata": {},
   "source": [
    "To create the layout, dash bootstrap components were used (Read more about dash bootstrap location components here: https://dash-bootstrap-components.opensource.faculty.ai/docs/components/layout/).  This package allows for the specification of size and location of each feature of the dashboard.  Rows must be specified first, and columns can be specified within each row. \n",
    "\n",
    "Within the row and column commands, html (Read more about html components here: https://dash.plotly.com/dash-html-components.  I only used Div, H1, and H2.) and dash core components (Read more about core components here: https://dash.plotly.com/dash-core-components.) were used to include text, graphs, dropdowns, and radio items.  I used html components to include text headers; H1 is called for the largest header, and H2 is called for the next largest header.  From dcc, dash core components, I created by interactive plots.  \n",
    "\n",
    "To allow for interaction between the dropdowns and radio items and their corresponding plots, an app callback must be used.  This callback takes inputs from each dropdown and radio item and it outputs the appropriate plots.  Within the callback is where I utilized the plotly express code.  \n",
    "\n",
    "The code is included below."
   ]
  },
  {
   "cell_type": "code",
   "execution_count": 1,
   "metadata": {},
   "outputs": [
    {
     "ename": "NameError",
     "evalue": "name 'dash' is not defined",
     "output_type": "error",
     "traceback": [
      "\u001b[0;31m\u001b[0m",
      "\u001b[0;31mNameError\u001b[0mTraceback (most recent call last)",
      "\u001b[0;32m<ipython-input-1-9cf0f232f611>\u001b[0m in \u001b[0;36m<module>\u001b[0;34m\u001b[0m\n\u001b[0;32m----> 1\u001b[0;31m \u001b[0mapp\u001b[0m \u001b[0;34m=\u001b[0m \u001b[0mdash\u001b[0m\u001b[0;34m.\u001b[0m\u001b[0mDash\u001b[0m\u001b[0;34m(\u001b[0m\u001b[0m__name__\u001b[0m\u001b[0;34m,\u001b[0m\u001b[0mexternal_stylesheets\u001b[0m\u001b[0;34m=\u001b[0m\u001b[0;34m[\u001b[0m\u001b[0mdbc\u001b[0m\u001b[0;34m.\u001b[0m\u001b[0mthemes\u001b[0m\u001b[0;34m.\u001b[0m\u001b[0mBOOTSTRAP\u001b[0m\u001b[0;34m]\u001b[0m\u001b[0;34m)\u001b[0m\u001b[0;34m\u001b[0m\u001b[0;34m\u001b[0m\u001b[0m\n\u001b[0m",
      "\u001b[0;31mNameError\u001b[0m: name 'dash' is not defined"
     ]
    }
   ],
   "source": [
    "app = dash.Dash(__name__,external_stylesheets=[dbc.themes.BOOTSTRAP])"
   ]
  },
  {
   "cell_type": "code",
   "execution_count": null,
   "metadata": {},
   "outputs": [],
   "source": [
    "app.layout = html.Div([\n",
    "    dbc.Row(\n",
    "        dbc.Col(\n",
    "            html.H1(\"Is there life after graduate school?\", style={'text-align': 'center'})\n",
    "        )\n",
    "    ),\n",
    "    \n",
    "    dbc.Row(\n",
    "        dbc.Col(\n",
    "            html.H2(\"What percentage of doctorate recipients have definite job commitments?\", style={'text-align': 'center'})\n",
    "        )\n",
    "    ),\n",
    "             \n",
    "    dbc.Row([\n",
    "        dbc.Col(dcc.Graph(id='field_graph', figure={}),\n",
    "                width={'order': 1}),\n",
    "    \n",
    "        dbc.Col(dcc.Graph(id='dem_graph', figure={}),\n",
    "                width={'order': 2})\n",
    "    ]),\n",
    "    \n",
    "    dbc.Row([\n",
    "        dbc.Col(dcc.Dropdown(id=\"fields\",\n",
    "                              options=[\n",
    "                                  {\"label\": \"All fields\", \"value\": 'All fields'},\n",
    "                                  {\"label\": \"Life Sciences\", \"value\": 'Life sciences'},\n",
    "                                  {\"label\": \"Physical Sciences and Earth Sciences\", \"value\":\"Physical sciences and earth sciences\"},\n",
    "                                  {\"label\": \"Mathematics and Computer Sciences\",\"value\": \"Mathematics and computer sciences\"},\n",
    "                                  {\"label\": \"Psychology and Social Sciences\",\"value\": \"Psychology and social sciences\"},\n",
    "                                  {\"label\": \"Engineering\",\"value\": \"Engineering\"},\n",
    "                                  {\"label\": \"Education\",\"value\": \"Education\"},\n",
    "                                  {\"label\": \"Humanities and Arts\",\"value\": \"Humanities and arts\"},\n",
    "                                  {\"label\": \"Other\",\"value\": \"Other\"},\n",
    "                              ],\n",
    "                              value=['All fields',\n",
    "                                     'Life sciences',\n",
    "                                    \"Physical sciences and earth sciences\",\n",
    "                                    \"Mathematics and computer sciences\",\n",
    "                                   \"Psychology and social sciences\",\n",
    "                                    \"Engineering\",\n",
    "                                    \"Education\",\n",
    "                                    \"Humanities and arts\",\n",
    "                                    \"Other\"\n",
    "                                   ],\n",
    "                             multi = True\n",
    "                             ),\n",
    "                width={'order': 1}\n",
    "               ),\n",
    "        \n",
    "        dbc.Col(dcc.RadioItems(id=\"dem\",\n",
    "                               options=[\n",
    "                                   {\"label\": \"Sex   \", \"value\": 'sex'},\n",
    "                                   {\"label\": \"Race   \", \"value\": 'race'},\n",
    "                                   {\"label\": \"Immigration Status\", \"value\":\"cit\"}],\n",
    "                               value='sex',\n",
    "                               style={'text-align': 'center'}\n",
    "                              )\n",
    "                ,\n",
    "                width={'order': 2}\n",
    "               )\n",
    "    ]),\n",
    "    \n",
    "    dbc.Row(\n",
    "        dbc.Col(\n",
    "            html.H2(\"Where do doctorate recipients have definite job commitments?\", style={'text-align': 'center'})\n",
    "        )\n",
    "    ),\n",
    "        \n",
    "    dbc.Row([\n",
    "        dbc.Col(dcc.Graph(id='job_graph', figure={}),\n",
    "               width = {'order': 1}),\n",
    "        dbc.Col(dcc.Graph(id='dem2_graph', figure={}),\n",
    "               width = {'order': 2}),\n",
    "        \n",
    "    ]),\n",
    "    \n",
    "    dbc.Row([\n",
    "        dbc.Col(dcc.Dropdown(id=\"job\",\n",
    "                 options=[\n",
    "                     {\"label\": \"All fields\", \"value\": 'Total'},\n",
    "                     {\"label\": \"Life Sciences\", \"value\": 'Life sciences'},\n",
    "                     {\"label\": \"Physical Sciences and Earth Sciences\", \"value\":\"Physical sciences and earth sciences\"},\n",
    "                     {\"label\": \"Mathematics and Computer Sciences\",\"value\": \"Mathematics and computer sciences\"},\n",
    "                     {\"label\": \"Psychology and Social Sciences\",\"value\": \"Psychology and social sciences\"},\n",
    "                     {\"label\": \"Engineering\",\"value\": \"Engineering\"},\n",
    "                     {\"label\": \"Education\",\"value\": \"Education\"},\n",
    "                     {\"label\": \"Humanities and Arts\",\"value\": \"Humanities and arts\"}],\n",
    "                 value='Total',\n",
    "                 style={'text-align': 'center'}\n",
    "                 )),\n",
    "        \n",
    "        dbc.Col(dcc.RadioItems(id=\"dem2\",\n",
    "                               options=[\n",
    "                                   {\"label\": \"Male   \", \"value\": 'Male'},\n",
    "                                   {\"label\": \"Female   \", \"value\": 'Female'}],\n",
    "                               value='Male',\n",
    "                               style={'text-align': 'center'}\n",
    "                              )\n",
    "                ,\n",
    "                width={'order': 2}\n",
    "               )\n",
    "    ]),\n",
    "    \n",
    "\n",
    "])"
   ]
  },
  {
   "cell_type": "code",
   "execution_count": null,
   "metadata": {},
   "outputs": [],
   "source": [
    "@app.callback(\n",
    "    [Output(component_id='field_graph', component_property='figure'),\n",
    "     Output(component_id='dem_graph', component_property='figure'),\n",
    "    Output(component_id='job_graph', component_property='figure'),\n",
    "    Output(component_id='dem2_graph', component_property='figure')],\n",
    "    [Input(component_id='fields', component_property='value'),\n",
    "     Input(component_id='dem', component_property='value'),\n",
    "    Input(component_id='job', component_property='value'),\n",
    "    Input(component_id='dem2', component_property='value')]\n",
    ")\n",
    "\n",
    "def update_graph(optf, opt, optf2, opt2):\n",
    "    \"\"\"Update graphs based on checklist and radio items.\"\"\"\n",
    "    \n",
    "    df_field = byfield_long.copy()\n",
    "    df_field = df_field[df_field['variable'].isin(optf)]\n",
    "    \n",
    "    df_job = ebf2_long[ebf2_long['variable'] == optf2]\n",
    "    \n",
    "    df = bycat_long.copy()\n",
    "    if opt == 'sex':\n",
    "        df = df[df['variable'].isin(['Male', 'Female'])]\n",
    "    elif opt == 'race': \n",
    "        df = df[df['variable'].isin(['Hispanic or Latino',\n",
    "                                             'American Indian or Alaska Native',\n",
    "                                            'Black or African American',\n",
    "                                            'White',\n",
    "                                            'More than one race',\n",
    "                                            'Other race or race not reported'])]\n",
    "    else:\n",
    "        df = df[df['variable'].isin([\"U.S. citizen or permanent resident\",\n",
    "                                    \"Temporary visa holder\"])]\n",
    "        \n",
    "    df2 = ebd2_long[ebd2_long['variable'] == opt2]\n",
    "\n",
    "        \n",
    "    # Plotly Express\n",
    "    figfield = px.line(\n",
    "        df_field, x = 'Year', y = 'value', color = 'variable', \n",
    "        labels = {\n",
    "            'value':'Percent with Definite Commitment',\n",
    "            'variable':'Field'},\n",
    "        title = \"By Field\"\n",
    "    )\n",
    "    \n",
    "    fig = px.line(\n",
    "        df, x = 'Year', y = 'value', color = 'variable', \n",
    "        labels = {\n",
    "            'value':'Percent with Definite Commitment',\n",
    "            'variable':'Demographic'},\n",
    "        title = \"By Demographic: Sex, Race, or Immigration Status\"\n",
    "    )\n",
    "    \n",
    "    figjob = px.area(df_job, \n",
    "                x = \"Year\",\n",
    "                y = \"value\",\n",
    "              color = \"job\",\n",
    "              title = \"By Field\"\n",
    "                    )\n",
    "    \n",
    "    fig2 = px.area(df2, \n",
    "                x = \"Year\",\n",
    "                y = \"value\",\n",
    "              color = \"job\",\n",
    "              title = \"By Sex: Male or Female\"\n",
    "                    )\n",
    "  \n",
    "    return figfield, fig, figjob, fig2"
   ]
  },
  {
   "cell_type": "code",
   "execution_count": null,
   "metadata": {},
   "outputs": [],
   "source": [
    "if __name__ == '__main__': \n",
    "    app.run_server(debug = False)"
   ]
  },
  {
   "cell_type": "markdown",
   "metadata": {},
   "source": [
    "The plots look at the data on definite job commitments for doctoral degree recipients in the United States by field of study and various demographic categories.  By field, Humanities and Arts have the lowest percentage of definite job commitments.  \n",
    "\n",
    "Additionally, males have a higher percent commitment by about 2% every year measured than females and a similar difference is seen in US citizens having a higher percent commitment than visa holders.  After 2002, the overall percentage with definite job commitments decreased until 2012.  This could be due to the recession or many other factors.  \n",
    "\n",
    "It's clear in the area plots on the bottom of the dashboard that the most common area of employment of doctoral degree recipients is academia.  There is a large difference of type of job commitment between fields, with fields like physical/earth science and engineering having a large percentage going into industry or business.  Other fields such as humanities and arts and education have a larger percentage going into academia.  \n",
    "\n",
    "There are sex differences observed in job sector, with women more likely to enter academia than men and men entering industry of business more than women.  "
   ]
  },
  {
   "cell_type": "markdown",
   "metadata": {},
   "source": [
    "If you run the Jupyter file through Anaconda on your local machine, the dashboard can be seen at this link: http://127.0.0.1:8050/."
   ]
  },
  {
   "cell_type": "markdown",
   "metadata": {},
   "source": [
    "So, is there life after graduate school?  Take a look for yourself at your field of study and other identifiers to see what the trends have been in the past.  "
   ]
  },
  {
   "cell_type": "code",
   "execution_count": null,
   "metadata": {},
   "outputs": [],
   "source": []
  }
 ],
 "metadata": {
  "kernelspec": {
   "display_name": "Python 3",
   "language": "python",
   "name": "python3"
  },
  "language_info": {
   "codemirror_mode": {
    "name": "ipython",
    "version": 3
   },
   "file_extension": ".py",
   "mimetype": "text/x-python",
   "name": "python",
   "nbconvert_exporter": "python",
   "pygments_lexer": "ipython3",
   "version": "3.7.8"
  }
 },
 "nbformat": 4,
 "nbformat_minor": 4
}
