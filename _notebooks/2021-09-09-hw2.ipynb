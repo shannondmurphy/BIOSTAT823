{
 "cells": [
  {
   "cell_type": "markdown",
   "metadata": {},
   "source": [
    "# \"Finding the first 10-digit prime in the decimal expansion of 17pi\"\n"
   ]
  },
  {
   "cell_type": "markdown",
   "metadata": {},
   "source": [
    "Three steps are recommended by Dr. Cliburn Chan to break down this problem.  \n",
    "\n",
    "1. Write a function to generate an expansion of $\\pi$.\n",
    "2.  Write a function to identify if a number is prime.\n",
    "3.  Write a function to generate sliding windows of a specified width from a long string of numbers."
   ]
  },
  {
   "cell_type": "markdown",
   "metadata": {},
   "source": [
    "## Step 1\n",
    "\n",
    "Generate an expansion of $\\pi$.  I did this using the mpmath package.  "
   ]
  },
  {
   "cell_type": "code",
   "execution_count": null,
   "metadata": {},
   "outputs": [],
   "source": [
    "from decimal import *\n",
    "from mpmath import mp"
   ]
  },
  {
   "cell_type": "code",
   "execution_count": null,
   "metadata": {},
   "outputs": [],
   "source": [
    "def expand(n):\n",
    "    \"\"\"Generate the decimal expansion of pi out to n decimal places\"\"\"\n",
    "    \n",
    "    mp.dps = n + 1\n",
    "    expansion = mp.pi\n",
    "    \n",
    "    return expansion"
   ]
  },
  {
   "cell_type": "code",
   "execution_count": null,
   "metadata": {},
   "outputs": [],
   "source": [
    "print(expand(10))"
   ]
  },
  {
   "cell_type": "markdown",
   "metadata": {},
   "source": [
    "## Step 2\n",
    "\n",
    "Create a function to identify if a given integer is prime.\n",
    "\n",
    "Using a simple for loop, I checked if a value, val, was divisible by any integer.  I first checked if val was even.  If not, I then check odd integers from 3 to $\\sqrt{val} + 1$.  The given value could not be divisible by anything larger than this upper bound except for itself, which is assumed.  The break function is used to stop the for loop from running after a number is shown to be not prime."
   ]
  },
  {
   "cell_type": "code",
   "execution_count": null,
   "metadata": {},
   "outputs": [],
   "source": [
    "import math"
   ]
  },
  {
   "cell_type": "code",
   "execution_count": null,
   "metadata": {},
   "outputs": [],
   "source": [
    "def prime_num(val):\n",
    "    \"\"\"Identify a prime (True) or not prime (False) integer.\"\"\"\n",
    "    \n",
    "    status = True #prime until proven otherwise\n",
    "    \n",
    "    if (val % 2) == 0: #check if val is even\n",
    "        status = False\n",
    "        \n",
    "    if status == True: #if not even, check if divisible by other values\n",
    "        for i in range(3,int(math.sqrt(val)) + 1, 2):\n",
    "            if (val % i) == 0:\n",
    "                status = False\n",
    "                break\n",
    "    \n",
    "    return status"
   ]
  },
  {
   "cell_type": "code",
   "execution_count": null,
   "metadata": {},
   "outputs": [],
   "source": [
    "print(prime_num(10000087))"
   ]
  },
  {
   "cell_type": "markdown",
   "metadata": {},
   "source": [
    "## Step 3\n",
    "\n",
    "Create a function to generate sliding windows of a specified width within a string."
   ]
  },
  {
   "cell_type": "code",
   "execution_count": null,
   "metadata": {},
   "outputs": [],
   "source": [
    "def sliding(width, string):\n",
    "    \"\"\"Generate sliding windows of length 'width' within a string.\"\"\"\n",
    "    \n",
    "    for i in range(0,len(string) - width + 1):\n",
    "        window = [string[i:i+width]]\n",
    "        print(window)\n"
   ]
  },
  {
   "cell_type": "code",
   "execution_count": null,
   "metadata": {},
   "outputs": [],
   "source": [
    "sliding(10, \"abcdefghijklmnop\")"
   ]
  },
  {
   "cell_type": "markdown",
   "metadata": {},
   "source": [
    "## Combine all three functions to generate the first 17 digit prime number in the decimal expansion of $\\pi$.\n"
   ]
  },
  {
   "cell_type": "markdown",
   "metadata": {},
   "source": [
    "I decided to try the first thirty decimal places in pi and check if the first 17-digit prime lies within those digits.  \n",
    "\n",
    "Within the sliding function, now called sliding2, I removed the first two values in the pi string, which are '3.' before calling the prime number identification function, prime_num.  The break function is once again used, this time it will stop the for loop when a prime number is found (because we are only searching for the first prime)."
   ]
  },
  {
   "cell_type": "code",
   "execution_count": 137,
   "metadata": {},
   "outputs": [],
   "source": [
    "def sliding2(width, string):\n",
    "    \"\"\"Generate sliding windows of length 'width' within a string.\"\"\"\n",
    "    \n",
    "    stat = 0\n",
    "    string = string[2:len(string)]\n",
    "    for i in range(0,len(string) - width + 1):\n",
    "        window = int(string[i:i+width])\n",
    "        if prime_num(window):\n",
    "            stat = 1\n",
    "            print(window, \"is the first\", width, \"-digit prime in the decimal expansion of pi.\")\n",
    "            print(\"This sequence can be found starting at the\", i + 1, \"th decimal place.\")\n",
    "            break"
   ]
  },
  {
   "cell_type": "code",
   "execution_count": null,
   "metadata": {},
   "outputs": [],
   "source": [
    "sliding2(17, str(expand(30)))"
   ]
  }
 ],
 "metadata": {
  "kernelspec": {
   "display_name": "Python 3",
   "language": "python",
   "name": "python3"
  },
  "language_info": {
   "codemirror_mode": {
    "name": "ipython",
    "version": 3
   },
   "file_extension": ".py",
   "mimetype": "text/x-python",
   "name": "python",
   "nbconvert_exporter": "python",
   "pygments_lexer": "ipython3",
   "version": "3.7.8"
  }
 },
 "nbformat": 4,
 "nbformat_minor": 4
}
